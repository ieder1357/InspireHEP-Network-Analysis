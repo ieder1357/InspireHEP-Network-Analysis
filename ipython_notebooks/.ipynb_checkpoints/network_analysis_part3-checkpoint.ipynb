{
 "cells": [
  {
   "cell_type": "markdown",
   "metadata": {},
   "source": [
    "# Introduction"
   ]
  },
  {
   "cell_type": "markdown",
   "metadata": {},
   "source": [
    "In this notebook we utilize our results from Part I and Part II where we quantified scientific impact via network analysis. In particular, we built a directed network of nodes for the publications in High Energy Physics (HEP) from the last 55 years or so, made available to us by InspireHEP.\n",
    "\n",
    "\n",
    "Here we focus on a practical application. In Parts I and II what we did was a broad characterization of the impact of authors. The method picked out very influential scientists as the ones with the highest impact. It's certainly neat that this method proves very effective at picking out Nobel Prize winners for instance.\n",
    "\n",
    "In reality, citations, and evaluations of impact are probably most important for hirings, and for promotions. Here we attempt to recommend specific candidates based on their PR ranking."
   ]
  },
  {
   "cell_type": "markdown",
   "metadata": {},
   "source": [
    "# Preliminary Stuff"
   ]
  },
  {
   "cell_type": "code",
   "execution_count": 1,
   "metadata": {
    "collapsed": true
   },
   "outputs": [],
   "source": [
    "import networkx as nx\n",
    "%matplotlib inline\n",
    "import matplotlib\n",
    "matplotlib.style.use('fivethirtyeight')\n",
    "import matplotlib.pyplot as plt\n",
    "plt.rcParams['figure.figsize'] = (15, 3)\n",
    "plt.rcParams['font.family'] = 'sans-serif'\n",
    "from collections import defaultdict\n",
    "from my_utils import *"
   ]
  },
  {
   "cell_type": "code",
   "execution_count": 2,
   "metadata": {
    "collapsed": true
   },
   "outputs": [],
   "source": [
    "# let's read the data, clean it a bit, and build network\n",
    "\n",
    "# key is recid, value is info\n",
    "# info = {authors: [], citations: int, pub_date: datetime}\n",
    "recid_info = defaultdict(dict)\n",
    "json_path = '/Users/ederizaguirre/Research/FunProjects/InspireHEPNetworks/'\n",
    "DG = nx.DiGraph() # directed graph. Edges are (paper that cites, paper that's cited)\n",
    "with open(json_path + 'hep_records.json') as f:\n",
    "    list(map(lambda x: compute_graph(DG,\n",
    "                                     recid_info,\n",
    "                                     x\n",
    "                                    ),\n",
    "             f.readlines()\n",
    "            )\n",
    "        )"
   ]
  },
  {
   "cell_type": "code",
   "execution_count": 3,
   "metadata": {},
   "outputs": [
    {
     "data": {
      "text/plain": [
       "644925"
      ]
     },
     "execution_count": 3,
     "metadata": {},
     "output_type": "execute_result"
    }
   ],
   "source": [
    "len(recid_info) # number of entries"
   ]
  },
  {
   "cell_type": "code",
   "execution_count": 4,
   "metadata": {
    "collapsed": true
   },
   "outputs": [],
   "source": [
    "recid_pr = nx.pagerank(DG) # key is recid; value is PR"
   ]
  },
  {
   "cell_type": "code",
   "execution_count": 5,
   "metadata": {
    "collapsed": true
   },
   "outputs": [],
   "source": [
    "# let's sort the entries\n",
    "recid_pr_sorted = sorted(recid_pr.items(), \n",
    "                            key=lambda x: x[1], \n",
    "                            reverse=True\n",
    "                           )"
   ]
  },
  {
   "cell_type": "code",
   "execution_count": 4,
   "metadata": {
    "collapsed": true
   },
   "outputs": [],
   "source": [
    "# we can build the network from an input file we created in Part I\n",
    "recid_pr_sorted = []\n",
    "recid_pr = defaultdict(float)\n",
    "with open('../data/recid_pr_damping0p85.dat') as f:\n",
    "    for line in f:\n",
    "        line = line.split()\n",
    "        recid = int(line[0])\n",
    "        pr = float(line[1])\n",
    "        recid_pr_sorted.append((recid, pr))\n",
    "        recid_pr[recid] = pr"
   ]
  },
  {
   "cell_type": "code",
   "execution_count": 5,
   "metadata": {
    "collapsed": true
   },
   "outputs": [],
   "source": [
    "# update pr key in recid_info dict\n",
    "for recid in recid_info.iterkeys():\n",
    "    recid_info[recid]['pr'] = recid_pr[recid]"
   ]
  },
  {
   "cell_type": "markdown",
   "metadata": {
    "collapsed": true
   },
   "source": [
    "Ok, so now we have read and processed the meatadata info from publications\n",
    "We'd like to focus on authors. Let's compute individual author's PR"
   ]
  },
  {
   "cell_type": "code",
   "execution_count": 6,
   "metadata": {
    "collapsed": true
   },
   "outputs": [],
   "source": [
    "# build author_pr dict\n",
    "# default to 1/N penalty\n",
    "author_pr_sorted = author_metric_sorted(recid_info,\n",
    "                                       norm = 'len(authors)'\n",
    "                                      )\n",
    "author_pr = {au: pr for au, pr in author_pr_sorted} # key is author; value is PR"
   ]
  },
  {
   "cell_type": "markdown",
   "metadata": {},
   "source": [
    "Ok, so how do we make a recommendation for a faculty hire in a given year?\n",
    "Here's a simple solution.\n",
    "Normally, everyone hired as an Assistant Professor in HEP has one or two 3-year postdoctoral fellowships of experience\n",
    "beyond that person's PhD. So if we're hiring in say 1999, we'd be hiring people who got their PhDs sometime between 1993 and 1996. The InspireHEP metadata does not give us authors' PhD date however. But a good substitute for an author's PhD date is the date of that author's first publication. Most people in HEP publish their first publication in their 2nd or 3rd year of their PhDs, and the majority of people graduate in 5 years, although a small fraction finish in 4 years.\n",
    "\n",
    "So if we're hiring in 1999, then we are hiring candidates who would have written their first paper back in 1990 or 1991."
   ]
  },
  {
   "cell_type": "code",
   "execution_count": 7,
   "metadata": {},
   "outputs": [],
   "source": [
    "# organize authors by the year of their first publication\n",
    "\n",
    "# key is first pub's year; value is authors whose first pub in that year\n",
    "first_pub_year_authors = get_first_pub_year_authors(recid_info)"
   ]
  },
  {
   "cell_type": "markdown",
   "metadata": {},
   "source": [
    "So, if we were to hire in 2017, and we wanted someone fresh out of their *first* postdoctoral fellowship - so someone with a lot of potential - we'd look for a candidate with a first publication from 2011 or 2012. If we focus on someone from 2011, that person would have been only a 2nd year PhD student at the time of their first paper."
   ]
  },
  {
   "cell_type": "code",
   "execution_count": 127,
   "metadata": {},
   "outputs": [],
   "source": [
    "top_authors_2017 = []\n",
    "for year in range(2010,2012):\n",
    "    top_authors_2017 += first_pub_year_authors[year]\n",
    "    \n",
    "top_authors_2017.sort(key = lambda author: author_pr[author], reverse = True)"
   ]
  },
  {
   "cell_type": "code",
   "execution_count": 128,
   "metadata": {},
   "outputs": [
    {
     "data": {
      "text/plain": [
       "[u'Stanford, Douglas', u'Linden, Tim', u'Upadhyay, Sudhaker']"
      ]
     },
     "execution_count": 128,
     "metadata": {},
     "output_type": "execute_result"
    }
   ],
   "source": [
    "top_authors_2017[:3] "
   ]
  },
  {
   "cell_type": "markdown",
   "metadata": {},
   "source": [
    "So there we go.\n",
    "The fellow D. Stanford actually got his PhD from 2010-2014. He is now a postdoc at the Institute of Advanced Studies at Princeton, and is starting a faculty job this Fall at Stanford! (curiously enough, given his last name).\n",
    "http://inspirehep.net/author/profile/D.Stanford.1\n",
    "\n",
    "Linden did his PhD from 2008-2013 at Santa Cruz and is now on his 2nd postdoc at Ohio State after a 2-year postdoc at Chicago. So perhaps he's due soon!\n",
    "http://inspirehep.net/author/profile/T.Linden.1\n",
    "\n",
    "\n",
    "The other fellow Upadhyay got his PhD in India from 2008-2013. I see he's already written 60+ papers (!).\n",
    "http://inspirehep.net/author/profile/S.Upadhyay.1"
   ]
  },
  {
   "cell_type": "markdown",
   "metadata": {},
   "source": [
    "What if we use citations instead?"
   ]
  },
  {
   "cell_type": "code",
   "execution_count": 129,
   "metadata": {
    "collapsed": true
   },
   "outputs": [],
   "source": [
    "# we need to build the author_num_cites dict\n",
    "\n",
    "# key is author; value is num_cites\n",
    "author_num_cites_sorted = author_metric_sorted(recid_info,\n",
    "                                               metric = 'num_citations',\n",
    "                                               norm = None\n",
    "                                              )\n",
    "author_num_cites = {au: n for au, n in author_num_cites_sorted}"
   ]
  },
  {
   "cell_type": "code",
   "execution_count": 130,
   "metadata": {
    "collapsed": true
   },
   "outputs": [],
   "source": [
    "# sort by citations\n",
    "top_authors_2017.sort(key = lambda author: author_num_cites[author], reverse = True)"
   ]
  },
  {
   "cell_type": "code",
   "execution_count": 133,
   "metadata": {},
   "outputs": [
    {
     "data": {
      "text/plain": [
       "[u'Fisher, Matthew', u'Khakzad, Mohsen', u'Liu, Yanwen']"
      ]
     },
     "execution_count": 133,
     "metadata": {},
     "output_type": "execute_result"
    }
   ],
   "source": [
    "top_authors_2017[:3] # top 3 authors by number of citations"
   ]
  },
  {
   "cell_type": "markdown",
   "metadata": {},
   "source": [
    "Fisher and Khakzad are both from CMS, one of the LHC experiments.\n",
    "CMS has some 3000+ members, and as a rule every member puts their name on every paper CMS puts out.\n",
    "Liu is in ATLAS it seems, the other general purpose LHC experiment."
   ]
  },
  {
   "cell_type": "markdown",
   "metadata": {},
   "source": [
    "Ok, this is hardly a systematic study.\n",
    "In particular, not every author follows the same path to a faculty job.\n",
    "However, it's intersting that this very basic application of PageRank as a recommendation system for a faculty hiring committe for the year of 2017 yielded a name which was *actually* hired by one of the top places, and other names which may be on a fastrack to a faculty job.\n",
    "\n",
    "In principle I could apply this method to previous years, but for now I will leave it at that. For previous years, we'd want to compute the PageRank of papers and authors by taking a snapshot of InspireHEP *at that time* so as to not let future papers and the citations they confer affect the results from that particular year."
   ]
  },
  {
   "cell_type": "code",
   "execution_count": null,
   "metadata": {
    "collapsed": true
   },
   "outputs": [],
   "source": []
  }
 ],
 "metadata": {
  "kernelspec": {
   "display_name": "Python 2",
   "language": "python",
   "name": "python2"
  },
  "language_info": {
   "codemirror_mode": {
    "name": "ipython",
    "version": 2
   },
   "file_extension": ".py",
   "mimetype": "text/x-python",
   "name": "python",
   "nbconvert_exporter": "python",
   "pygments_lexer": "ipython2",
   "version": "2.7.12"
  }
 },
 "nbformat": 4,
 "nbformat_minor": 2
}
